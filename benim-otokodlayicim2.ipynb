{
 "cells": [
  {
   "cell_type": "code",
   "execution_count": 1,
   "id": "536bbb5d",
   "metadata": {},
   "outputs": [],
   "source": [
    "import numpy as np\n",
    "import matplotlib.pyplot as plt\n",
    "import pandas as pd"
   ]
  },
  {
   "cell_type": "code",
   "execution_count": 36,
   "id": "1c11c9ba",
   "metadata": {},
   "outputs": [],
   "source": [
    "from tensorflow.keras.datasets import mnist\n",
    "from numpy import reshape\n",
    "import random"
   ]
  },
  {
   "cell_type": "code",
   "execution_count": 3,
   "id": "e9beb2c0",
   "metadata": {},
   "outputs": [],
   "source": [
    "digits = mnist.load_data()"
   ]
  },
  {
   "cell_type": "code",
   "execution_count": 4,
   "id": "c602c769",
   "metadata": {},
   "outputs": [],
   "source": [
    "(xTrain, _), (xTest, _) = digits"
   ]
  },
  {
   "cell_type": "code",
   "execution_count": 5,
   "id": "2dd87c57",
   "metadata": {},
   "outputs": [],
   "source": [
    "random_idx = random.randint(0, len(xTrain) - 1)"
   ]
  },
  {
   "cell_type": "code",
   "execution_count": 6,
   "id": "0985aa4c",
   "metadata": {},
   "outputs": [
    {
     "data": {
      "text/plain": [
       "<matplotlib.image.AxesImage at 0x15628be80>"
      ]
     },
     "execution_count": 6,
     "metadata": {},
     "output_type": "execute_result"
    },
    {
     "data": {
      "image/png": "[encoded data removed]",
      "text/plain": [
       "<Figure size 432x288 with 1 Axes>"
      ]
     },
     "metadata": {
      "needs_background": "light"
     },
     "output_type": "display_data"
    }
   ],
   "source": [
    "plt.imshow(xTrain[random_idx], cmap= 'GnBu')"
   ]
  },
  {
   "cell_type": "code",
   "execution_count": 7,
   "id": "b9160326",
   "metadata": {},
   "outputs": [],
   "source": [
    "xTrain = xTrain.astype('float32') / 255.\n",
    "xTest = xTest.astype('float32') / 255."
   ]
  },
  {
   "cell_type": "code",
   "execution_count": 8,
   "id": "f897a434",
   "metadata": {},
   "outputs": [
    {
     "name": "stdout",
     "output_type": "stream",
     "text": [
      "(60000, 28, 28)\n",
      "(10000, 28, 28)\n"
     ]
    }
   ],
   "source": [
    "print(xTrain.shape)\n",
    "print(xTest.shape)"
   ]
  },
  {
   "cell_type": "code",
   "execution_count": 9,
   "id": "7573098f",
   "metadata": {},
   "outputs": [],
   "source": [
    "xTrainData, xTrainHeight, xTrainWidth = xTrain.shape\n",
    "xTestData, xTestHeight, xTestWidth = xTest.shape"
   ]
  },
  {
   "cell_type": "code",
   "execution_count": 10,
   "id": "1ec2ad58",
   "metadata": {},
   "outputs": [],
   "source": [
    "input_shape = 28 * 28"
   ]
  },
  {
   "cell_type": "code",
   "execution_count": 11,
   "id": "673be69d",
   "metadata": {},
   "outputs": [],
   "source": [
    "xTrain = xTrain.reshape(xTrainData, input_shape)\n",
    "xTest = xTest.reshape(xTestData, input_shape)"
   ]
  },
  {
   "cell_type": "code",
   "execution_count": 12,
   "id": "567ded4e",
   "metadata": {},
   "outputs": [
    {
     "name": "stdout",
     "output_type": "stream",
     "text": [
      "(60000, 784)\n",
      "(10000, 784)\n"
     ]
    }
   ],
   "source": [
    "print(xTrain.shape)\n",
    "print(xTest.shape)"
   ]
  },
  {
   "cell_type": "code",
   "execution_count": 13,
   "id": "bef34daf",
   "metadata": {},
   "outputs": [],
   "source": [
    "from tensorflow.keras.layers import ReLU, Input, Dense\n",
    "from tensorflow.keras.models import Model"
   ]
  },
  {
   "cell_type": "code",
   "execution_count": 14,
   "id": "d11ad4e1",
   "metadata": {},
   "outputs": [],
   "source": [
    "latent_size = 32"
   ]
  },
  {
   "cell_type": "code",
   "execution_count": 20,
   "id": "86116fc0",
   "metadata": {},
   "outputs": [],
   "source": [
    "encoder_input = Input(shape= (input_shape,))\n",
    "\n",
    "encoder_dense1 = Dense(units= 512, activation= 'relu')(encoder_input)\n",
    "encoder_relu1 = ReLU()(encoder_dense1)\n",
    "\n",
    "encoder_dense2 = Dense(units= 256, activation= 'relu')(encoder_relu1)\n",
    "encoder_relu2 = ReLU()(encoder_dense2)\n",
    "\n",
    "encoder_dense3 = Dense(units= 128, activation= 'relu')(encoder_relu2)\n",
    "encoder_relu3 = ReLU()(encoder_dense3)\n",
    "\n",
    "encoder_dense4 = Dense(units= 64, activation= 'relu')(encoder_relu3)\n",
    "encoder_relu4 = ReLU()(encoder_dense4)\n",
    "\n",
    "encoder_dense5 = Dense(units= latent_size)(encoder_relu4)\n",
    "encoder_output = ReLU()(encoder_dense5)"
   ]
  },
  {
   "cell_type": "code",
   "execution_count": 21,
   "id": "35d7fac8",
   "metadata": {},
   "outputs": [],
   "source": [
    "encoder = Model(encoder_input, encoder_output)"
   ]
  },
  {
   "cell_type": "code",
   "execution_count": 22,
   "id": "17685f3a",
   "metadata": {},
   "outputs": [
    {
     "name": "stdout",
     "output_type": "stream",
     "text": [
      "Model: \"model_1\"\n",
      "_________________________________________________________________\n",
      "Layer (type)                 Output Shape              Param #   \n",
      "=================================================================\n",
      "input_4 (InputLayer)         [(None, 784)]             0         \n",
      "_________________________________________________________________\n",
      "dense_15 (Dense)             (None, 512)               401920    \n",
      "_________________________________________________________________\n",
      "re_lu_14 (ReLU)              (None, 512)               0         \n",
      "_________________________________________________________________\n",
      "dense_16 (Dense)             (None, 256)               131328    \n",
      "_________________________________________________________________\n",
      "re_lu_15 (ReLU)              (None, 256)               0         \n",
      "_________________________________________________________________\n",
      "dense_17 (Dense)             (None, 128)               32896     \n",
      "_________________________________________________________________\n",
      "re_lu_16 (ReLU)              (None, 128)               0         \n",
      "_________________________________________________________________\n",
      "dense_18 (Dense)             (None, 64)                8256      \n",
      "_________________________________________________________________\n",
      "re_lu_17 (ReLU)              (None, 64)                0         \n",
      "_________________________________________________________________\n",
      "dense_19 (Dense)             (None, 32)                2080      \n",
      "_________________________________________________________________\n",
      "re_lu_18 (ReLU)              (None, 32)                0         \n",
      "=================================================================\n",
      "Total params: 576,480\n",
      "Trainable params: 576,480\n",
      "Non-trainable params: 0\n",
      "_________________________________________________________________\n"
     ]
    }
   ],
   "source": [
    "encoder.summary()"
   ]
  },
  {
   "cell_type": "code",
   "execution_count": 24,
   "id": "fa3854c8",
   "metadata": {},
   "outputs": [],
   "source": [
    "decoder_input = Input(shape= (latent_size,))\n",
    "\n",
    "decoder_dense1 = Dense(units= 64, activation= 'relu')(decoder_input)\n",
    "decoder_relu1 = ReLU()(decoder_dense1)\n",
    "\n",
    "decoder_dense2 = Dense(units= 128, activation= 'relu')(decoder_relu1)\n",
    "decoder_relu2 = ReLU()(decoder_dense2)\n",
    "\n",
    "decoder_dense3 = Dense(units= 256, activation= 'relu')(decoder_relu2)\n",
    "decoder_relu3 = ReLU()(decoder_dense3)\n",
    "\n",
    "decoder_dense4 = Dense(units= 512, activation= 'relu')(decoder_relu3)\n",
    "decoder_relu4 = ReLU()(decoder_dense4)\n",
    "\n",
    "decoder_dense5 = Dense(units= input_shape, activation= 'softmax')(decoder_relu4)\n",
    "decoder_output = ReLU()(decoder_dense5)"
   ]
  },
  {
   "cell_type": "code",
   "execution_count": 25,
   "id": "c7ff9628",
   "metadata": {},
   "outputs": [],
   "source": [
    "decoder = Model(decoder_input, decoder_output)"
   ]
  },
  {
   "cell_type": "code",
   "execution_count": 26,
   "id": "047e7397",
   "metadata": {},
   "outputs": [
    {
     "name": "stdout",
     "output_type": "stream",
     "text": [
      "Model: \"model_2\"\n",
      "_________________________________________________________________\n",
      "Layer (type)                 Output Shape              Param #   \n",
      "=================================================================\n",
      "input_6 (InputLayer)         [(None, 32)]              0         \n",
      "_________________________________________________________________\n",
      "dense_24 (Dense)             (None, 64)                2112      \n",
      "_________________________________________________________________\n",
      "re_lu_23 (ReLU)              (None, 64)                0         \n",
      "_________________________________________________________________\n",
      "dense_25 (Dense)             (None, 128)               8320      \n",
      "_________________________________________________________________\n",
      "re_lu_24 (ReLU)              (None, 128)               0         \n",
      "_________________________________________________________________\n",
      "dense_26 (Dense)             (None, 256)               33024     \n",
      "_________________________________________________________________\n",
      "re_lu_25 (ReLU)              (None, 256)               0         \n",
      "_________________________________________________________________\n",
      "dense_27 (Dense)             (None, 512)               131584    \n",
      "_________________________________________________________________\n",
      "re_lu_26 (ReLU)              (None, 512)               0         \n",
      "_________________________________________________________________\n",
      "dense_28 (Dense)             (None, 784)               402192    \n",
      "_________________________________________________________________\n",
      "re_lu_27 (ReLU)              (None, 784)               0         \n",
      "=================================================================\n",
      "Total params: 577,232\n",
      "Trainable params: 577,232\n",
      "Non-trainable params: 0\n",
      "_________________________________________________________________\n"
     ]
    }
   ],
   "source": [
    "decoder.summary()"
   ]
  },
  {
   "cell_type": "code",
   "execution_count": 27,
   "id": "ab8c05f6",
   "metadata": {},
   "outputs": [],
   "source": [
    "auto_encoder_input = Input(shape= (input_shape,))\n",
    "auto_encoder_encoder_output = encoder(auto_encoder_input)\n",
    "auto_encoder_decoder_output = decoder(auto_encoder_encoder_output)"
   ]
  },
  {
   "cell_type": "code",
   "execution_count": 28,
   "id": "5208439c",
   "metadata": {},
   "outputs": [],
   "source": [
    "auto_encoder = Model(auto_encoder_input, auto_encoder_decoder_output)"
   ]
  },
  {
   "cell_type": "code",
   "execution_count": 29,
   "id": "85c81073",
   "metadata": {},
   "outputs": [
    {
     "name": "stdout",
     "output_type": "stream",
     "text": [
      "Model: \"model_3\"\n",
      "_________________________________________________________________\n",
      "Layer (type)                 Output Shape              Param #   \n",
      "=================================================================\n",
      "input_7 (InputLayer)         [(None, 784)]             0         \n",
      "_________________________________________________________________\n",
      "model_1 (Functional)         (None, 32)                576480    \n",
      "_________________________________________________________________\n",
      "model_2 (Functional)         (None, 784)               577232    \n",
      "=================================================================\n",
      "Total params: 1,153,712\n",
      "Trainable params: 1,153,712\n",
      "Non-trainable params: 0\n",
      "_________________________________________________________________\n"
     ]
    }
   ],
   "source": [
    "auto_encoder.summary()"
   ]
  },
  {
   "cell_type": "code",
   "execution_count": 32,
   "id": "0783b7fd",
   "metadata": {},
   "outputs": [],
   "source": [
    "auto_encoder.compile(optimizer= 'adam', loss= 'categorical_crossentropy')"
   ]
  },
  {
   "cell_type": "code",
   "execution_count": 34,
   "id": "1db2da21",
   "metadata": {},
   "outputs": [
    {
     "name": "stdout",
     "output_type": "stream",
     "text": [
      "Epoch 1/20\n",
      "  1/235 [..............................] - ETA: 59s - loss: 541.3793"
     ]
    },
    {
     "name": "stderr",
     "output_type": "stream",
     "text": [
      "2022-08-01 22:32:51.057725: I tensorflow/core/grappler/optimizers/custom_graph_optimizer_registry.cc:112] Plugin optimizer for device_type GPU is enabled.\n"
     ]
    },
    {
     "name": "stdout",
     "output_type": "stream",
     "text": [
      "235/235 [==============================] - 4s 16ms/step - loss: 526.6965\n",
      "Epoch 2/20\n",
      "235/235 [==============================] - 4s 15ms/step - loss: 524.9571\n",
      "Epoch 3/20\n",
      "235/235 [==============================] - 3s 15ms/step - loss: 523.7353\n",
      "Epoch 4/20\n",
      "235/235 [==============================] - 4s 15ms/step - loss: 522.7186\n",
      "Epoch 5/20\n",
      "235/235 [==============================] - 4s 15ms/step - loss: 521.8829\n",
      "Epoch 6/20\n",
      "235/235 [==============================] - 4s 15ms/step - loss: 521.1355\n",
      "Epoch 7/20\n",
      "235/235 [==============================] - 3s 15ms/step - loss: 520.3906\n",
      "Epoch 8/20\n",
      "235/235 [==============================] - 4s 15ms/step - loss: 519.7531\n",
      "Epoch 9/20\n",
      "235/235 [==============================] - 4s 15ms/step - loss: 519.1777\n",
      "Epoch 10/20\n",
      "235/235 [==============================] - 4s 16ms/step - loss: 518.6782\n",
      "Epoch 11/20\n",
      "235/235 [==============================] - 4s 16ms/step - loss: 518.2023\n",
      "Epoch 12/20\n",
      "235/235 [==============================] - 4s 16ms/step - loss: 517.8005\n",
      "Epoch 13/20\n",
      "235/235 [==============================] - 3s 15ms/step - loss: 517.4407\n",
      "Epoch 14/20\n",
      "235/235 [==============================] - 3s 15ms/step - loss: 517.1050\n",
      "Epoch 15/20\n",
      "235/235 [==============================] - 3s 15ms/step - loss: 516.7131\n",
      "Epoch 16/20\n",
      "235/235 [==============================] - 3s 15ms/step - loss: 516.4213\n",
      "Epoch 17/20\n",
      "235/235 [==============================] - 3s 15ms/step - loss: 516.0841\n",
      "Epoch 18/20\n",
      "235/235 [==============================] - 4s 15ms/step - loss: 515.8044\n",
      "Epoch 19/20\n",
      "235/235 [==============================] - 3s 15ms/step - loss: 515.4854\n",
      "Epoch 20/20\n",
      "235/235 [==============================] - 4s 15ms/step - loss: 515.2580\n"
     ]
    },
    {
     "data": {
      "text/plain": [
       "<tensorflow.python.keras.callbacks.History at 0x178444b20>"
      ]
     },
     "execution_count": 34,
     "metadata": {},
     "output_type": "execute_result"
    }
   ],
   "source": [
    "auto_encoder.fit(xTrain, xTrain, epochs= 20, batch_size= 256, shuffle= True)"
   ]
  },
  {
   "cell_type": "code",
   "execution_count": 37,
   "id": "4e013ed3",
   "metadata": {},
   "outputs": [],
   "source": [
    "encoded_images = encoder.predict(xTest)\n",
    "decoded_images = decoder.predict(encoded_images)\n",
    "pred_images = reshape(decoded_images, newshape= (decoded_images.shape[0], 28, 28))"
   ]
  },
  {
   "cell_type": "code",
   "execution_count": 38,
   "id": "8b3ccfdb",
   "metadata": {},
   "outputs": [
    {
     "data": {
      "image/png": "[encoded data removed]",
      "text/plain": [
       "<Figure size 720x144 with 20 Axes>"
      ]
     },
     "metadata": {
      "needs_background": "light"
     },
     "output_type": "display_data"
    }
   ],
   "source": [
    "n = 10\n",
    "plt.figure(figsize=(10, 2))\n",
    "for i in range(n): \n",
    "    ax = plt.subplot(2, n, i + 1)\n",
    "    ax.get_xaxis().set_visible(False)\n",
    "    ax.get_yaxis().set_visible(False)\n",
    "    plt.imshow(xTest[i].reshape(28, 28))\n",
    "    plt.gray()\n",
    " \n",
    "    ax = plt.subplot(2, n, i + 1 + n)\n",
    "    ax.get_xaxis().set_visible(False)\n",
    "    ax.get_yaxis().set_visible(False)\n",
    "    plt.imshow(pred_images[i].reshape(28, 28))"
   ]
  }
 ],
 "metadata": {
  "kernelspec": {
   "display_name": "Python 3.9 (tensorflow)",
   "language": "python",
   "name": "tensorflow"
  },
  "language_info": {
   "codemirror_mode": {
    "name": "ipython",
    "version": 3
   },
   "file_extension": ".py",
   "mimetype": "text/x-python",
   "name": "python",
   "nbconvert_exporter": "python",
   "pygments_lexer": "ipython3",
   "version": "3.9.13"
  }
 },
 "nbformat": 4,
 "nbformat_minor": 5
}

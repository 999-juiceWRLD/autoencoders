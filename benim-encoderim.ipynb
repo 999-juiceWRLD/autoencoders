{
 "cells": [
  {
   "cell_type": "code",
   "execution_count": 2,
   "id": "661ddd7d",
   "metadata": {},
   "outputs": [],
   "source": [
    "import numpy as np\n",
    "import pandas as pd\n",
    "import matplotlib.pyplot as plt\n",
    "import random"
   ]
  },
  {
   "cell_type": "code",
   "execution_count": 3,
   "id": "2bccf7e8",
   "metadata": {},
   "outputs": [],
   "source": [
    "from tensorflow.keras.layers import Dense, Input, ReLU\n",
    "from tensorflow.keras.models import Model\n",
    "from tensorflow.keras.datasets import fashion_mnist\n",
    "from numpy import reshape"
   ]
  },
  {
   "cell_type": "code",
   "execution_count": 4,
   "id": "85b3f105",
   "metadata": {},
   "outputs": [],
   "source": [
    "fashion_data = fashion_mnist.load_data()"
   ]
  },
  {
   "cell_type": "code",
   "execution_count": 6,
   "id": "79cbb0a0",
   "metadata": {},
   "outputs": [],
   "source": [
    "(xTrain, _), (xTest, _) = fashion_data\n",
    "\n",
    "xTrain = xTrain.astype('float32') / 255.\n",
    "xTest = xTest.astype('float32') / 255."
   ]
  },
  {
   "cell_type": "code",
   "execution_count": 7,
   "id": "ed7e2dd0",
   "metadata": {},
   "outputs": [
    {
     "data": {
      "text/plain": [
       "((60000, 28, 28), (10000, 28, 28))"
      ]
     },
     "execution_count": 7,
     "metadata": {},
     "output_type": "execute_result"
    }
   ],
   "source": [
    "xTrain.shape, xTest.shape"
   ]
  },
  {
   "cell_type": "code",
   "execution_count": 8,
   "id": "87ed0945",
   "metadata": {},
   "outputs": [],
   "source": [
    "input_shape = (28 * 28)"
   ]
  },
  {
   "cell_type": "code",
   "execution_count": 9,
   "id": "70aa2901",
   "metadata": {},
   "outputs": [],
   "source": [
    "xTrain = xTrain.reshape(len(xTrain), input_shape)\n",
    "xTest = xTest.reshape(len(xTest), input_shape)"
   ]
  },
  {
   "cell_type": "code",
   "execution_count": 10,
   "id": "0ff37348",
   "metadata": {},
   "outputs": [
    {
     "name": "stdout",
     "output_type": "stream",
     "text": [
      "(60000, 784)\n",
      "(10000, 784)\n"
     ]
    }
   ],
   "source": [
    "print(xTrain.shape)\n",
    "print(xTest.shape)"
   ]
  },
  {
   "cell_type": "markdown",
   "id": "146fa6fc",
   "metadata": {},
   "source": [
    "# Encoder"
   ]
  },
  {
   "cell_type": "code",
   "execution_count": 11,
   "id": "c05b44b2",
   "metadata": {},
   "outputs": [],
   "source": [
    "latentSize = 8"
   ]
  },
  {
   "cell_type": "code",
   "execution_count": 15,
   "id": "3f153f26",
   "metadata": {},
   "outputs": [],
   "source": [
    "encoderInput = Input(shape= (input_shape,))\n",
    "encoderDense1 = Dense(units= 512, activation= 'relu')(encoderInput)\n",
    "encoderActiv1 = ReLU()(encoderDense1)\n",
    "encoderDense2 = Dense(units= 256, activation= 'relu')(encoderActiv1)\n",
    "encoderActiv2 = ReLU()(encoderDense2)\n",
    "encoderDense3 = Dense(units= latentSize)(encoderActiv2)\n",
    "encoderOutput = ReLU()(encoderDense3)\n",
    "\n",
    "encoder = Model(encoderInput, encoderOutput)"
   ]
  },
  {
   "cell_type": "code",
   "execution_count": 16,
   "id": "c0eacace",
   "metadata": {},
   "outputs": [
    {
     "name": "stdout",
     "output_type": "stream",
     "text": [
      "Model: \"model_1\"\n",
      "_________________________________________________________________\n",
      "Layer (type)                 Output Shape              Param #   \n",
      "=================================================================\n",
      "input_3 (InputLayer)         [(None, 784)]             0         \n",
      "_________________________________________________________________\n",
      "dense_3 (Dense)              (None, 512)               401920    \n",
      "_________________________________________________________________\n",
      "re_lu_3 (ReLU)               (None, 512)               0         \n",
      "_________________________________________________________________\n",
      "dense_4 (Dense)              (None, 256)               131328    \n",
      "_________________________________________________________________\n",
      "re_lu_4 (ReLU)               (None, 256)               0         \n",
      "_________________________________________________________________\n",
      "dense_5 (Dense)              (None, 8)                 2056      \n",
      "_________________________________________________________________\n",
      "re_lu_5 (ReLU)               (None, 8)                 0         \n",
      "=================================================================\n",
      "Total params: 535,304\n",
      "Trainable params: 535,304\n",
      "Non-trainable params: 0\n",
      "_________________________________________________________________\n"
     ]
    }
   ],
   "source": [
    "encoder.summary()"
   ]
  },
  {
   "cell_type": "markdown",
   "id": "7c705651",
   "metadata": {},
   "source": [
    "# Decoder"
   ]
  },
  {
   "cell_type": "code",
   "execution_count": 19,
   "id": "2064995b",
   "metadata": {},
   "outputs": [],
   "source": [
    "decoderInput = Input(shape= (latentSize,))\n",
    "decoderDense1 = Dense(units=256, activation=\"relu\")(decoderInput)\n",
    "decoderActiv1 = ReLU()(decoderDense1)\n",
    "decoderDense2 = Dense(units=512, activation=\"relu\")(decoderActiv1)\n",
    "decoderActiv2 = ReLU()(decoderDense2)\n",
    "decoderDense3 = Dense(units=input_shape, activation='sigmoid')(decoderActiv2)\n",
    "decoderOutput = ReLU()(decoderDense3)\n",
    "\n",
    "decoder = Model(decoderInput, decoderOutput)"
   ]
  },
  {
   "cell_type": "code",
   "execution_count": 20,
   "id": "0a1ff30c",
   "metadata": {},
   "outputs": [
    {
     "name": "stdout",
     "output_type": "stream",
     "text": [
      "Model: \"model_2\"\n",
      "_________________________________________________________________\n",
      "Layer (type)                 Output Shape              Param #   \n",
      "=================================================================\n",
      "input_6 (InputLayer)         [(None, 8)]               0         \n",
      "_________________________________________________________________\n",
      "dense_9 (Dense)              (None, 256)               2304      \n",
      "_________________________________________________________________\n",
      "re_lu_8 (ReLU)               (None, 256)               0         \n",
      "_________________________________________________________________\n",
      "dense_10 (Dense)             (None, 512)               131584    \n",
      "_________________________________________________________________\n",
      "re_lu_9 (ReLU)               (None, 512)               0         \n",
      "_________________________________________________________________\n",
      "dense_11 (Dense)             (None, 784)               402192    \n",
      "_________________________________________________________________\n",
      "re_lu_10 (ReLU)              (None, 784)               0         \n",
      "=================================================================\n",
      "Total params: 536,080\n",
      "Trainable params: 536,080\n",
      "Non-trainable params: 0\n",
      "_________________________________________________________________\n"
     ]
    }
   ],
   "source": [
    "decoder.summary()"
   ]
  },
  {
   "cell_type": "markdown",
   "id": "9e90984e",
   "metadata": {},
   "source": [
    "# Autoencoder"
   ]
  },
  {
   "cell_type": "code",
   "execution_count": 22,
   "id": "d788234c",
   "metadata": {},
   "outputs": [],
   "source": [
    "aenInput = Input(shape=(input_shape,))\n",
    "aenEncOutput = encoder(aenInput)\n",
    "aenDecOutput = decoder(aenEncOutput)\n",
    "aen = Model(aenInput, aenDecOutput)"
   ]
  },
  {
   "cell_type": "code",
   "execution_count": 23,
   "id": "7a0ab54d",
   "metadata": {},
   "outputs": [
    {
     "name": "stdout",
     "output_type": "stream",
     "text": [
      "Model: \"model_3\"\n",
      "_________________________________________________________________\n",
      "Layer (type)                 Output Shape              Param #   \n",
      "=================================================================\n",
      "input_7 (InputLayer)         [(None, 784)]             0         \n",
      "_________________________________________________________________\n",
      "model_1 (Functional)         (None, 8)                 535304    \n",
      "_________________________________________________________________\n",
      "model_2 (Functional)         (None, 784)               536080    \n",
      "=================================================================\n",
      "Total params: 1,071,384\n",
      "Trainable params: 1,071,384\n",
      "Non-trainable params: 0\n",
      "_________________________________________________________________\n"
     ]
    }
   ],
   "source": [
    "aen.summary()"
   ]
  },
  {
   "cell_type": "code",
   "execution_count": 24,
   "id": "0334a595",
   "metadata": {},
   "outputs": [
    {
     "name": "stderr",
     "output_type": "stream",
     "text": [
      "2022-08-01 16:19:24.817574: I tensorflow/compiler/mlir/mlir_graph_optimization_pass.cc:176] None of the MLIR Optimization Passes are enabled (registered 2)\n",
      "2022-08-01 16:19:24.817862: W tensorflow/core/platform/profile_utils/cpu_utils.cc:128] Failed to get CPU frequency: 0 Hz\n"
     ]
    },
    {
     "name": "stdout",
     "output_type": "stream",
     "text": [
      "Epoch 1/20\n"
     ]
    },
    {
     "name": "stderr",
     "output_type": "stream",
     "text": [
      "2022-08-01 16:19:25.068847: I tensorflow/core/grappler/optimizers/custom_graph_optimizer_registry.cc:112] Plugin optimizer for device_type GPU is enabled.\n"
     ]
    },
    {
     "name": "stdout",
     "output_type": "stream",
     "text": [
      "235/235 [==============================] - 4s 13ms/step - loss: 0.3861\n",
      "Epoch 2/20\n",
      "235/235 [==============================] - 3s 11ms/step - loss: 0.3315\n",
      "Epoch 3/20\n",
      "235/235 [==============================] - 3s 11ms/step - loss: 0.3166\n",
      "Epoch 4/20\n",
      "235/235 [==============================] - 3s 11ms/step - loss: 0.3090\n",
      "Epoch 5/20\n",
      "235/235 [==============================] - 3s 11ms/step - loss: 0.3045\n",
      "Epoch 6/20\n",
      "235/235 [==============================] - 3s 11ms/step - loss: 0.3012\n",
      "Epoch 7/20\n",
      "235/235 [==============================] - 3s 11ms/step - loss: 0.2983\n",
      "Epoch 8/20\n",
      "235/235 [==============================] - 3s 11ms/step - loss: 0.2958\n",
      "Epoch 9/20\n",
      "235/235 [==============================] - 3s 11ms/step - loss: 0.2936\n",
      "Epoch 10/20\n",
      "235/235 [==============================] - 3s 11ms/step - loss: 0.2920\n",
      "Epoch 11/20\n",
      "235/235 [==============================] - 3s 11ms/step - loss: 0.2906\n",
      "Epoch 12/20\n",
      "235/235 [==============================] - 3s 11ms/step - loss: 0.2894\n",
      "Epoch 13/20\n",
      "235/235 [==============================] - 3s 11ms/step - loss: 0.2883\n",
      "Epoch 14/20\n",
      "235/235 [==============================] - 3s 11ms/step - loss: 0.2875\n",
      "Epoch 15/20\n",
      "235/235 [==============================] - 3s 11ms/step - loss: 0.2867\n",
      "Epoch 16/20\n",
      "235/235 [==============================] - 3s 11ms/step - loss: 0.2860\n",
      "Epoch 17/20\n",
      "235/235 [==============================] - 3s 11ms/step - loss: 0.2853\n",
      "Epoch 18/20\n",
      "235/235 [==============================] - 3s 11ms/step - loss: 0.2847\n",
      "Epoch 19/20\n",
      "235/235 [==============================] - 3s 11ms/step - loss: 0.2843\n",
      "Epoch 20/20\n",
      "235/235 [==============================] - 3s 11ms/step - loss: 0.2838\n"
     ]
    },
    {
     "data": {
      "text/plain": [
       "<tensorflow.python.keras.callbacks.History at 0x294d52f40>"
      ]
     },
     "execution_count": 24,
     "metadata": {},
     "output_type": "execute_result"
    }
   ],
   "source": [
    "aen.compile(optimizer=\"rmsprop\", loss=\"binary_crossentropy\")\n",
    "aen.fit(xTrain, xTrain, epochs= 20, batch_size= 256, shuffle= True) "
   ]
  },
  {
   "cell_type": "code",
   "execution_count": 25,
   "id": "23e3f6b0",
   "metadata": {},
   "outputs": [
    {
     "name": "stderr",
     "output_type": "stream",
     "text": [
      "2022-08-01 16:20:39.505958: I tensorflow/core/grappler/optimizers/custom_graph_optimizer_registry.cc:112] Plugin optimizer for device_type GPU is enabled.\n",
      "2022-08-01 16:20:39.863026: I tensorflow/core/grappler/optimizers/custom_graph_optimizer_registry.cc:112] Plugin optimizer for device_type GPU is enabled.\n"
     ]
    }
   ],
   "source": [
    "encoded_images = encoder.predict(xTest)\n",
    "decoded_images = decoder.predict(encoded_images)\n",
    "pred_images = reshape(decoded_images, newshape= (decoded_images.shape[0], 28, 28))"
   ]
  },
  {
   "cell_type": "code",
   "execution_count": 27,
   "id": "53e907d1",
   "metadata": {},
   "outputs": [
    {
     "data": {
      "image/png": "[encoded data removed]",
      "text/plain": [
       "<Figure size 720x144 with 20 Axes>"
      ]
     },
     "metadata": {
      "needs_background": "light"
     },
     "output_type": "display_data"
    }
   ],
   "source": [
    "n = 10\n",
    "plt.figure(figsize=(10, 2))\n",
    "for i in range(n): \n",
    "    ax = plt.subplot(2, n, i + 1)\n",
    "    ax.get_xaxis().set_visible(False)\n",
    "    ax.get_yaxis().set_visible(False)\n",
    "    plt.imshow(xTest[i].reshape(28, 28))\n",
    "    plt.gray()\n",
    " \n",
    "    ax = plt.subplot(2, n, i + 1 + n)\n",
    "    ax.get_xaxis().set_visible(False)\n",
    "    ax.get_yaxis().set_visible(False)\n",
    "    plt.imshow(pred_images[i].reshape(28, 28))"
   ]
  }
 ],
 "metadata": {
  "kernelspec": {
   "display_name": "Python 3.9 (tensorflow)",
   "language": "python",
   "name": "tensorflow"
  },
  "language_info": {
   "codemirror_mode": {
    "name": "ipython",
    "version": 3
   },
   "file_extension": ".py",
   "mimetype": "text/x-python",
   "name": "python",
   "nbconvert_exporter": "python",
   "pygments_lexer": "ipython3",
   "version": "3.9.13"
  }
 },
 "nbformat": 4,
 "nbformat_minor": 5
}

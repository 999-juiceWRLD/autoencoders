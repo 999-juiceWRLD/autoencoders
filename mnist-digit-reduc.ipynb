{
 "cells": [
  {
   "cell_type": "code",
   "execution_count": 1,
   "id": "5bc3c5eb",
   "metadata": {},
   "outputs": [],
   "source": [
    "import pandas as pd\n",
    "import numpy as np\n",
    "import matplotlib.pyplot as plt"
   ]
  },
  {
   "cell_type": "code",
   "execution_count": 2,
   "id": "38ea6b24",
   "metadata": {},
   "outputs": [
    {
     "name": "stdout",
     "output_type": "stream",
     "text": [
      "Init Plugin\n",
      "Init Graph Optimizer\n",
      "Init Kernel\n"
     ]
    }
   ],
   "source": [
    "import tensorflow  as tf\n",
    "from tensorflow.keras.datasets import mnist\n",
    "from tensorflow.keras.models import Model\n",
    "from tensorflow.keras.layers import Dense, Input"
   ]
  },
  {
   "cell_type": "code",
   "execution_count": 3,
   "id": "3d3ad114",
   "metadata": {},
   "outputs": [],
   "source": [
    "(xTrain, _), (xTest, _) = mnist.load_data()"
   ]
  },
  {
   "cell_type": "code",
   "execution_count": 4,
   "id": "59615b1e",
   "metadata": {},
   "outputs": [],
   "source": [
    "xTrain = xTrain.astype('float32') / 255.\n",
    "xTest = xTest.astype('float32') / 255."
   ]
  },
  {
   "cell_type": "code",
   "execution_count": 5,
   "id": "3413ec98",
   "metadata": {},
   "outputs": [
    {
     "data": {
      "text/plain": [
       "784"
      ]
     },
     "execution_count": 5,
     "metadata": {},
     "output_type": "execute_result"
    }
   ],
   "source": [
    "28 * 28"
   ]
  },
  {
   "cell_type": "code",
   "execution_count": 6,
   "id": "707dc092",
   "metadata": {},
   "outputs": [
    {
     "data": {
      "text/plain": [
       "((60000, 28, 28), (10000, 28, 28))"
      ]
     },
     "execution_count": 6,
     "metadata": {},
     "output_type": "execute_result"
    }
   ],
   "source": [
    "xTrain.shape, xTest.shape"
   ]
  },
  {
   "cell_type": "code",
   "execution_count": 20,
   "id": "f882e064",
   "metadata": {},
   "outputs": [],
   "source": [
    "xTrain = xTrain.reshape((len(xTrain), np.prod((28, 28))))\n",
    "xTest = xTest.reshape((len(xTest), np.prod((28, 28))))"
   ]
  },
  {
   "cell_type": "code",
   "execution_count": 8,
   "id": "752fba43",
   "metadata": {},
   "outputs": [
    {
     "data": {
      "text/plain": [
       "((60000, 784), (10000, 784))"
      ]
     },
     "execution_count": 8,
     "metadata": {},
     "output_type": "execute_result"
    }
   ],
   "source": [
    "xTrain.shape, xTest.shape"
   ]
  },
  {
   "cell_type": "code",
   "execution_count": 12,
   "id": "ad53cfc8",
   "metadata": {
    "scrolled": false
   },
   "outputs": [
    {
     "name": "stderr",
     "output_type": "stream",
     "text": [
      "2022-08-01 15:08:20.147179: I tensorflow/compiler/mlir/mlir_graph_optimization_pass.cc:176] None of the MLIR Optimization Passes are enabled (registered 2)\n",
      "2022-08-01 15:08:20.147359: W tensorflow/core/platform/profile_utils/cpu_utils.cc:128] Failed to get CPU frequency: 0 Hz\n"
     ]
    },
    {
     "name": "stdout",
     "output_type": "stream",
     "text": [
      "Epoch 1/50\n"
     ]
    },
    {
     "name": "stderr",
     "output_type": "stream",
     "text": [
      "2022-08-01 15:08:20.360317: I tensorflow/core/grappler/optimizers/custom_graph_optimizer_registry.cc:112] Plugin optimizer for device_type GPU is enabled.\n"
     ]
    },
    {
     "name": "stdout",
     "output_type": "stream",
     "text": [
      "235/235 [==============================] - 2s 7ms/step - loss: 0.2756 - val_loss: 0.1890\n",
      "Epoch 2/50\n",
      "  9/235 [>.............................] - ETA: 1s - loss: 0.1904"
     ]
    },
    {
     "name": "stderr",
     "output_type": "stream",
     "text": [
      "2022-08-01 15:08:22.091793: I tensorflow/core/grappler/optimizers/custom_graph_optimizer_registry.cc:112] Plugin optimizer for device_type GPU is enabled.\n"
     ]
    },
    {
     "name": "stdout",
     "output_type": "stream",
     "text": [
      "235/235 [==============================] - 2s 6ms/step - loss: 0.1703 - val_loss: 0.1530\n",
      "Epoch 3/50\n",
      "235/235 [==============================] - 2s 6ms/step - loss: 0.1444 - val_loss: 0.1342\n",
      "Epoch 4/50\n",
      "235/235 [==============================] - 2s 6ms/step - loss: 0.1290 - val_loss: 0.1215\n",
      "Epoch 5/50\n",
      "235/235 [==============================] - 1s 6ms/step - loss: 0.1185 - val_loss: 0.1129\n",
      "Epoch 6/50\n",
      "235/235 [==============================] - 2s 6ms/step - loss: 0.1113 - val_loss: 0.1073\n",
      "Epoch 7/50\n",
      "235/235 [==============================] - 2s 6ms/step - loss: 0.1064 - val_loss: 0.1030\n",
      "Epoch 8/50\n",
      "235/235 [==============================] - 2s 6ms/step - loss: 0.1027 - val_loss: 0.0998\n",
      "Epoch 9/50\n",
      "235/235 [==============================] - 2s 6ms/step - loss: 0.0999 - val_loss: 0.0974\n",
      "Epoch 10/50\n",
      "235/235 [==============================] - 2s 6ms/step - loss: 0.0978 - val_loss: 0.0957\n",
      "Epoch 11/50\n",
      "235/235 [==============================] - 2s 6ms/step - loss: 0.0964 - val_loss: 0.0947\n",
      "Epoch 12/50\n",
      "235/235 [==============================] - 2s 6ms/step - loss: 0.0955 - val_loss: 0.0937\n",
      "Epoch 13/50\n",
      "235/235 [==============================] - 2s 6ms/step - loss: 0.0948 - val_loss: 0.0934\n",
      "Epoch 14/50\n",
      "235/235 [==============================] - 2s 6ms/step - loss: 0.0944 - val_loss: 0.0929\n",
      "Epoch 15/50\n",
      "235/235 [==============================] - 2s 6ms/step - loss: 0.0941 - val_loss: 0.0927\n",
      "Epoch 16/50\n",
      "235/235 [==============================] - 2s 6ms/step - loss: 0.0939 - val_loss: 0.0924\n",
      "Epoch 17/50\n",
      "235/235 [==============================] - 2s 6ms/step - loss: 0.0937 - val_loss: 0.0924\n",
      "Epoch 18/50\n",
      "235/235 [==============================] - 2s 6ms/step - loss: 0.0936 - val_loss: 0.0922\n",
      "Epoch 19/50\n",
      "235/235 [==============================] - 2s 7ms/step - loss: 0.0934 - val_loss: 0.0921\n",
      "Epoch 20/50\n",
      "235/235 [==============================] - 2s 7ms/step - loss: 0.0933 - val_loss: 0.0920\n",
      "Epoch 21/50\n",
      "235/235 [==============================] - 2s 7ms/step - loss: 0.0932 - val_loss: 0.0920\n",
      "Epoch 22/50\n",
      "235/235 [==============================] - 2s 6ms/step - loss: 0.0932 - val_loss: 0.0920\n",
      "Epoch 23/50\n",
      "235/235 [==============================] - 2s 7ms/step - loss: 0.0931 - val_loss: 0.0918\n",
      "Epoch 24/50\n",
      "235/235 [==============================] - 2s 7ms/step - loss: 0.0931 - val_loss: 0.0918\n",
      "Epoch 25/50\n",
      "235/235 [==============================] - 2s 7ms/step - loss: 0.0930 - val_loss: 0.0918\n",
      "Epoch 26/50\n",
      "235/235 [==============================] - 2s 6ms/step - loss: 0.0930 - val_loss: 0.0917\n",
      "Epoch 27/50\n",
      "235/235 [==============================] - 2s 7ms/step - loss: 0.0929 - val_loss: 0.0917\n",
      "Epoch 28/50\n",
      "235/235 [==============================] - 2s 7ms/step - loss: 0.0929 - val_loss: 0.0917\n",
      "Epoch 29/50\n",
      "235/235 [==============================] - 2s 6ms/step - loss: 0.0929 - val_loss: 0.0917\n",
      "Epoch 30/50\n",
      "235/235 [==============================] - 2s 7ms/step - loss: 0.0928 - val_loss: 0.0916\n",
      "Epoch 31/50\n",
      "235/235 [==============================] - 2s 7ms/step - loss: 0.0928 - val_loss: 0.0916\n",
      "Epoch 32/50\n",
      "235/235 [==============================] - 2s 7ms/step - loss: 0.0928 - val_loss: 0.0916\n",
      "Epoch 33/50\n",
      "235/235 [==============================] - 2s 7ms/step - loss: 0.0927 - val_loss: 0.0916\n",
      "Epoch 34/50\n",
      "235/235 [==============================] - 2s 7ms/step - loss: 0.0927 - val_loss: 0.0915\n",
      "Epoch 35/50\n",
      "235/235 [==============================] - 2s 6ms/step - loss: 0.0927 - val_loss: 0.0915\n",
      "Epoch 36/50\n",
      "235/235 [==============================] - 2s 7ms/step - loss: 0.0927 - val_loss: 0.0915\n",
      "Epoch 37/50\n",
      "235/235 [==============================] - 2s 7ms/step - loss: 0.0927 - val_loss: 0.0915\n",
      "Epoch 38/50\n",
      "235/235 [==============================] - 2s 7ms/step - loss: 0.0927 - val_loss: 0.0915\n",
      "Epoch 39/50\n",
      "235/235 [==============================] - 2s 7ms/step - loss: 0.0927 - val_loss: 0.0915\n",
      "Epoch 40/50\n",
      "235/235 [==============================] - 2s 6ms/step - loss: 0.0927 - val_loss: 0.0915\n",
      "Epoch 41/50\n",
      "235/235 [==============================] - 2s 7ms/step - loss: 0.0926 - val_loss: 0.0915\n",
      "Epoch 42/50\n",
      "235/235 [==============================] - 2s 7ms/step - loss: 0.0926 - val_loss: 0.0915\n",
      "Epoch 43/50\n",
      "235/235 [==============================] - 2s 7ms/step - loss: 0.0926 - val_loss: 0.0914\n",
      "Epoch 44/50\n",
      "235/235 [==============================] - 2s 7ms/step - loss: 0.0926 - val_loss: 0.0915\n",
      "Epoch 45/50\n",
      "235/235 [==============================] - 2s 7ms/step - loss: 0.0926 - val_loss: 0.0914\n",
      "Epoch 46/50\n",
      "235/235 [==============================] - 2s 6ms/step - loss: 0.0926 - val_loss: 0.0914\n",
      "Epoch 47/50\n",
      "235/235 [==============================] - 2s 6ms/step - loss: 0.0926 - val_loss: 0.0914\n",
      "Epoch 48/50\n",
      "235/235 [==============================] - 2s 7ms/step - loss: 0.0926 - val_loss: 0.0914\n",
      "Epoch 49/50\n",
      "235/235 [==============================] - 2s 7ms/step - loss: 0.0925 - val_loss: 0.0914\n",
      "Epoch 50/50\n",
      "235/235 [==============================] - 2s 7ms/step - loss: 0.0925 - val_loss: 0.0914\n"
     ]
    },
    {
     "data": {
      "text/plain": [
       "<tensorflow.python.keras.callbacks.History at 0x2a29b29a0>"
      ]
     },
     "execution_count": 12,
     "metadata": {},
     "output_type": "execute_result"
    }
   ],
   "source": [
    "input_l=Input(shape=(784,))\n",
    "bottleneck=Dense(32, activation='relu')(input_l)\n",
    "output_l=Dense(784, activation='sigmoid')(bottleneck)\n",
    "\n",
    "autoencoder=Model(inputs=[input_l],outputs=[output_l])    ## Building the entire autoencoder\n",
    "encoder=Model(inputs=[input_l],outputs=[bottleneck])    ## Building the encoder\n",
    "\n",
    "encoded_input=Input(shape=(32,))\n",
    "\n",
    "decoded=autoencoder.layers[-1](encoded_input)\n",
    "decoder=Model(inputs=[encoded_input],outputs=[decoded])      ##Building the decoder\n",
    "\n",
    "autoencoder.compile(optimizer='adam', loss='binary_crossentropy')\n",
    "autoencoder.fit(xTrain, xTrain,\n",
    "                epochs=50,\n",
    "                batch_size=256,\n",
    "                shuffle=True,\n",
    "                validation_data=(xTest, xTest))"
   ]
  },
  {
   "cell_type": "code",
   "execution_count": 16,
   "id": "bd856d9d",
   "metadata": {},
   "outputs": [],
   "source": [
    "from numpy import reshape\n",
    "\n",
    "encoded_images = encoder.predict(xTest)\n",
    "decoded_images = decoder.predict(encoded_images)\n",
    "pred_images = reshape(decoded_images, newshape=(decoded_images.shape[0], 28, 28)) "
   ]
  },
  {
   "cell_type": "code",
   "execution_count": 18,
   "id": "27d42d5e",
   "metadata": {},
   "outputs": [
    {
     "data": {
      "image/png": "[encoded data removed]",
      "text/plain": [
       "<Figure size 720x144 with 20 Axes>"
      ]
     },
     "metadata": {
      "needs_background": "light"
     },
     "output_type": "display_data"
    }
   ],
   "source": [
    "n = 10\n",
    "plt.figure(figsize=(10, 2))\n",
    "for i in range(n): \n",
    "    ax = plt.subplot(2, n, i + 1)\n",
    "    ax.get_xaxis().set_visible(False)\n",
    "    ax.get_yaxis().set_visible(False)\n",
    "    plt.imshow(xTest[i].reshape(28, 28))\n",
    "    plt.gray()\n",
    " \n",
    "    ax = plt.subplot(2, n, i + 1 + n)\n",
    "    ax.get_xaxis().set_visible(False)\n",
    "    ax.get_yaxis().set_visible(False)\n",
    "    plt.imshow(pred_images[i].reshape(28, 28))"
   ]
  }
 ],
 "metadata": {
  "kernelspec": {
   "display_name": "Python 3.9 (tensorflow)",
   "language": "python",
   "name": "tensorflow"
  },
  "language_info": {
   "codemirror_mode": {
    "name": "ipython",
    "version": 3
   },
   "file_extension": ".py",
   "mimetype": "text/x-python",
   "name": "python",
   "nbconvert_exporter": "python",
   "pygments_lexer": "ipython3",
   "version": "3.9.13"
  }
 },
 "nbformat": 4,
 "nbformat_minor": 5
}

{
 "cells": [
  {
   "cell_type": "markdown",
   "id": "798b64f9",
   "metadata": {},
   "source": [
    "# Image Reconstruction with AutoEncoders\n",
    "\n",
    "- Using the same data (MNIST) with previous model, with a few changes. After this part image noise reduction comes."
   ]
  },
  {
   "cell_type": "code",
   "execution_count": 30,
   "id": "ad823bfe",
   "metadata": {},
   "outputs": [],
   "source": [
    "import numpy as np\n",
    "import matplotlib.pyplot as plt\n",
    "import pandas as pd\n",
    "import random\n",
    "from numpy import reshape"
   ]
  },
  {
   "cell_type": "code",
   "execution_count": 2,
   "id": "6188d6af",
   "metadata": {},
   "outputs": [
    {
     "name": "stdout",
     "output_type": "stream",
     "text": [
      "Init Plugin\n",
      "Init Graph Optimizer\n",
      "Init Kernel\n"
     ]
    }
   ],
   "source": [
    "import tensorflow as tf\n",
    "from tensorflow.keras.layers import Flatten, Reshape, Dense, Input\n",
    "from tensorflow.keras.models import Sequential, Model\n",
    "from tensorflow.keras.datasets import mnist\n",
    "from tensorflow.keras.optimizers import SGD"
   ]
  },
  {
   "cell_type": "code",
   "execution_count": 3,
   "id": "cdf69b80",
   "metadata": {},
   "outputs": [],
   "source": [
    "(xTrain, _), (xTest, _) = mnist.load_data()"
   ]
  },
  {
   "cell_type": "code",
   "execution_count": 4,
   "id": "781c488f",
   "metadata": {},
   "outputs": [],
   "source": [
    "random.seed(1111)"
   ]
  },
  {
   "cell_type": "code",
   "execution_count": 5,
   "id": "c45c5905",
   "metadata": {},
   "outputs": [
    {
     "data": {
      "text/plain": [
       "14260"
      ]
     },
     "execution_count": 5,
     "metadata": {},
     "output_type": "execute_result"
    }
   ],
   "source": [
    "random_idx = random.randint(0, len(xTrain) - 1)\n",
    "random_idx"
   ]
  },
  {
   "cell_type": "code",
   "execution_count": 6,
   "id": "ca9ef198",
   "metadata": {},
   "outputs": [],
   "source": [
    "random_img = xTrain[random_idx]"
   ]
  },
  {
   "cell_type": "code",
   "execution_count": 7,
   "id": "55411fad",
   "metadata": {},
   "outputs": [
    {
     "data": {
      "text/plain": [
       "<matplotlib.image.AxesImage at 0x167fb9ee0>"
      ]
     },
     "execution_count": 7,
     "metadata": {},
     "output_type": "execute_result"
    },
    {
     "data": {
      "image/png": "[encoded data removed]",
      "text/plain": [
       "<Figure size 432x288 with 1 Axes>"
      ]
     },
     "metadata": {
      "needs_background": "light"
     },
     "output_type": "display_data"
    }
   ],
   "source": [
    "plt.imshow(random_img, cmap= 'binary')"
   ]
  },
  {
   "cell_type": "code",
   "execution_count": 8,
   "id": "89b49a29",
   "metadata": {},
   "outputs": [],
   "source": [
    "xTrain = xTrain.astype('float32') / 255.\n",
    "xTest = xTest.astype('float32') / 255."
   ]
  },
  {
   "cell_type": "code",
   "execution_count": 9,
   "id": "ac32b150",
   "metadata": {},
   "outputs": [
    {
     "name": "stdout",
     "output_type": "stream",
     "text": [
      "(60000, 28, 28)\n",
      "(10000, 28, 28)\n"
     ]
    }
   ],
   "source": [
    "print(xTrain.shape)\n",
    "print(xTest.shape)"
   ]
  },
  {
   "cell_type": "code",
   "execution_count": 10,
   "id": "46226720",
   "metadata": {},
   "outputs": [],
   "source": [
    "xTrainBatch, xTrainShape1, xTrainShape2 = xTrain.shape\n",
    "xTestBatch, xTestShape1, xTestShape2 = xTest.shape"
   ]
  },
  {
   "cell_type": "markdown",
   "id": "bf73a8a8",
   "metadata": {},
   "source": [
    "# Encoder"
   ]
  },
  {
   "cell_type": "code",
   "execution_count": 11,
   "id": "795395f8",
   "metadata": {},
   "outputs": [],
   "source": [
    "input_shape = xTrainShape1 *  xTrainShape2\n",
    "latent_size = 25"
   ]
  },
  {
   "cell_type": "code",
   "execution_count": 12,
   "id": "0cb9b6be",
   "metadata": {},
   "outputs": [
    {
     "name": "stdout",
     "output_type": "stream",
     "text": [
      "Metal device set to: Apple M1\n"
     ]
    },
    {
     "name": "stderr",
     "output_type": "stream",
     "text": [
      "2022-08-05 12:00:24.267546: I tensorflow/core/common_runtime/pluggable_device/pluggable_device_factory.cc:305] Could not identify NUMA node of platform GPU ID 0, defaulting to 0. Your kernel may not have been built with NUMA support.\n",
      "2022-08-05 12:00:24.267661: I tensorflow/core/common_runtime/pluggable_device/pluggable_device_factory.cc:271] Created TensorFlow device (/job:localhost/replica:0/task:0/device:GPU:0 with 0 MB memory) -> physical PluggableDevice (device: 0, name: METAL, pci bus id: <undefined>)\n"
     ]
    }
   ],
   "source": [
    "encoder = Sequential()\n",
    "\n",
    "encoder.add(Flatten(input_shape= [xTrainShape1, xTrainShape2]))\n",
    "encoder.add(Dense(units= 450, activation= 'relu'))\n",
    "encoder.add(Dense(units= 400, activation= 'relu'))\n",
    "encoder.add(Dense(units= 350, activation= 'relu'))\n",
    "encoder.add(Dense(units= 300, activation= 'relu'))\n",
    "encoder.add(Dense(units= 250, activation= 'relu'))\n",
    "encoder.add(Dense(units= 200, activation= 'relu'))\n",
    "encoder.add(Dense(units= 150, activation= 'relu'))\n",
    "encoder.add(Dense(units= 100, activation= 'relu'))"
   ]
  },
  {
   "cell_type": "code",
   "execution_count": 13,
   "id": "ca7539d1",
   "metadata": {},
   "outputs": [
    {
     "name": "stdout",
     "output_type": "stream",
     "text": [
      "Model: \"sequential\"\n",
      "_________________________________________________________________\n",
      "Layer (type)                 Output Shape              Param #   \n",
      "=================================================================\n",
      "flatten (Flatten)            (None, 784)               0         \n",
      "_________________________________________________________________\n",
      "dense (Dense)                (None, 450)               353250    \n",
      "_________________________________________________________________\n",
      "dense_1 (Dense)              (None, 400)               180400    \n",
      "_________________________________________________________________\n",
      "dense_2 (Dense)              (None, 350)               140350    \n",
      "_________________________________________________________________\n",
      "dense_3 (Dense)              (None, 300)               105300    \n",
      "_________________________________________________________________\n",
      "dense_4 (Dense)              (None, 250)               75250     \n",
      "_________________________________________________________________\n",
      "dense_5 (Dense)              (None, 200)               50200     \n",
      "_________________________________________________________________\n",
      "dense_6 (Dense)              (None, 150)               30150     \n",
      "_________________________________________________________________\n",
      "dense_7 (Dense)              (None, 100)               15100     \n",
      "=================================================================\n",
      "Total params: 950,000\n",
      "Trainable params: 950,000\n",
      "Non-trainable params: 0\n",
      "_________________________________________________________________\n"
     ]
    }
   ],
   "source": [
    "encoder.summary()"
   ]
  },
  {
   "cell_type": "markdown",
   "id": "d09298ee",
   "metadata": {},
   "source": [
    "# BottleNeck"
   ]
  },
  {
   "cell_type": "code",
   "execution_count": 14,
   "id": "1b30f4cb",
   "metadata": {},
   "outputs": [],
   "source": [
    "bottleNeckInp = Input(shape= (100,))\n",
    "bottleNeckOutp = Dense(units= latent_size, activation= 'relu')(bottleNeckInp)\n",
    "                     \n",
    "bottleNeck = Model(bottleNeckInp, bottleNeckOutp)"
   ]
  },
  {
   "cell_type": "code",
   "execution_count": 15,
   "id": "209a8b47",
   "metadata": {},
   "outputs": [
    {
     "name": "stdout",
     "output_type": "stream",
     "text": [
      "Model: \"model\"\n",
      "_________________________________________________________________\n",
      "Layer (type)                 Output Shape              Param #   \n",
      "=================================================================\n",
      "input_1 (InputLayer)         [(None, 100)]             0         \n",
      "_________________________________________________________________\n",
      "dense_8 (Dense)              (None, 25)                2525      \n",
      "=================================================================\n",
      "Total params: 2,525\n",
      "Trainable params: 2,525\n",
      "Non-trainable params: 0\n",
      "_________________________________________________________________\n"
     ]
    }
   ],
   "source": [
    "bottleNeck.summary()"
   ]
  },
  {
   "cell_type": "markdown",
   "id": "db32e266",
   "metadata": {},
   "source": [
    "# Decoder"
   ]
  },
  {
   "cell_type": "code",
   "execution_count": 16,
   "id": "343d546f",
   "metadata": {},
   "outputs": [],
   "source": [
    "decoder = Sequential()\n",
    "\n",
    "decoder.add(Dense(units= 100, activation= 'relu'))\n",
    "decoder.add(Dense(units= 150, activation= 'relu'))\n",
    "decoder.add(Dense(units= 200, activation= 'relu'))\n",
    "decoder.add(Dense(units= 250, activation= 'relu'))\n",
    "decoder.add(Dense(units= 300, activation= 'relu'))\n",
    "decoder.add(Dense(units= 350, activation= 'relu'))\n",
    "decoder.add(Dense(units= 400, activation= 'relu'))\n",
    "decoder.add(Dense(units= 450, activation= 'relu'))\n",
    "\n",
    "decoder.add(Dense(units= input_shape, activation= 'sigmoid'))\n",
    "decoder.add(Reshape([xTrainShape1, xTrainShape2]))\n",
    "decoder.build(input_shape= [None, latent_size])"
   ]
  },
  {
   "cell_type": "code",
   "execution_count": 17,
   "id": "a33823bf",
   "metadata": {},
   "outputs": [
    {
     "name": "stdout",
     "output_type": "stream",
     "text": [
      "Model: \"sequential_1\"\n",
      "_________________________________________________________________\n",
      "Layer (type)                 Output Shape              Param #   \n",
      "=================================================================\n",
      "dense_9 (Dense)              (None, 100)               2600      \n",
      "_________________________________________________________________\n",
      "dense_10 (Dense)             (None, 150)               15150     \n",
      "_________________________________________________________________\n",
      "dense_11 (Dense)             (None, 200)               30200     \n",
      "_________________________________________________________________\n",
      "dense_12 (Dense)             (None, 250)               50250     \n",
      "_________________________________________________________________\n",
      "dense_13 (Dense)             (None, 300)               75300     \n",
      "_________________________________________________________________\n",
      "dense_14 (Dense)             (None, 350)               105350    \n",
      "_________________________________________________________________\n",
      "dense_15 (Dense)             (None, 400)               140400    \n",
      "_________________________________________________________________\n",
      "dense_16 (Dense)             (None, 450)               180450    \n",
      "_________________________________________________________________\n",
      "dense_17 (Dense)             (None, 784)               353584    \n",
      "_________________________________________________________________\n",
      "reshape (Reshape)            (None, 28, 28)            0         \n",
      "=================================================================\n",
      "Total params: 953,284\n",
      "Trainable params: 953,284\n",
      "Non-trainable params: 0\n",
      "_________________________________________________________________\n"
     ]
    }
   ],
   "source": [
    "decoder.summary()"
   ]
  },
  {
   "cell_type": "code",
   "execution_count": 18,
   "id": "9927f1ae",
   "metadata": {},
   "outputs": [],
   "source": [
    "autoEncoder = Sequential([encoder, bottleNeck, decoder])"
   ]
  },
  {
   "cell_type": "code",
   "execution_count": 20,
   "id": "4eae02a5",
   "metadata": {},
   "outputs": [],
   "source": [
    "autoEncoder.compile(loss= 'binary_crossentropy', optimizer= SGD(learning_rate= 1.5), \n",
    "                   metrics= ['accuracy'])"
   ]
  },
  {
   "cell_type": "code",
   "execution_count": 21,
   "id": "b00c95e4",
   "metadata": {},
   "outputs": [
    {
     "name": "stderr",
     "output_type": "stream",
     "text": [
      "2022-08-05 12:02:31.433440: I tensorflow/compiler/mlir/mlir_graph_optimization_pass.cc:176] None of the MLIR Optimization Passes are enabled (registered 2)\n",
      "2022-08-05 12:02:31.436642: W tensorflow/core/platform/profile_utils/cpu_utils.cc:128] Failed to get CPU frequency: 0 Hz\n"
     ]
    },
    {
     "name": "stdout",
     "output_type": "stream",
     "text": [
      "Epoch 1/10\n"
     ]
    },
    {
     "name": "stderr",
     "output_type": "stream",
     "text": [
      "2022-08-05 12:02:31.682349: I tensorflow/core/grappler/optimizers/custom_graph_optimizer_registry.cc:112] Plugin optimizer for device_type GPU is enabled.\n"
     ]
    },
    {
     "name": "stdout",
     "output_type": "stream",
     "text": [
      "1874/1875 [============================>.] - ETA: 0s - loss: 0.2593 - accuracy: 0.0795"
     ]
    },
    {
     "name": "stderr",
     "output_type": "stream",
     "text": [
      "2022-08-05 12:02:53.050934: I tensorflow/core/grappler/optimizers/custom_graph_optimizer_registry.cc:112] Plugin optimizer for device_type GPU is enabled.\n"
     ]
    },
    {
     "name": "stdout",
     "output_type": "stream",
     "text": [
      "1875/1875 [==============================] - 23s 12ms/step - loss: 0.2593 - accuracy: 0.0795 - val_loss: 0.2338 - val_accuracy: 0.0987\n",
      "Epoch 2/10\n",
      "1875/1875 [==============================] - 23s 12ms/step - loss: 0.2203 - accuracy: 0.1136 - val_loss: 0.2116 - val_accuracy: 0.1277\n",
      "Epoch 3/10\n",
      "1875/1875 [==============================] - 23s 12ms/step - loss: 0.1971 - accuracy: 0.1471 - val_loss: 0.1834 - val_accuracy: 0.1661\n",
      "Epoch 4/10\n",
      "1875/1875 [==============================] - 23s 12ms/step - loss: 0.1794 - accuracy: 0.1742 - val_loss: 0.1764 - val_accuracy: 0.1726\n",
      "Epoch 5/10\n",
      "1875/1875 [==============================] - 23s 12ms/step - loss: 0.1685 - accuracy: 0.1878 - val_loss: 0.1622 - val_accuracy: 0.1959\n",
      "Epoch 6/10\n",
      "1875/1875 [==============================] - 23s 12ms/step - loss: 0.1602 - accuracy: 0.1983 - val_loss: 0.1568 - val_accuracy: 0.2035\n",
      "Epoch 7/10\n",
      "1875/1875 [==============================] - 23s 12ms/step - loss: 0.1538 - accuracy: 0.2066 - val_loss: 0.1493 - val_accuracy: 0.2132\n",
      "Epoch 8/10\n",
      "1875/1875 [==============================] - 23s 12ms/step - loss: 0.1481 - accuracy: 0.2133 - val_loss: 0.1587 - val_accuracy: 0.2067\n",
      "Epoch 9/10\n",
      "1875/1875 [==============================] - 23s 12ms/step - loss: 0.1435 - accuracy: 0.2184 - val_loss: 0.1435 - val_accuracy: 0.2148\n",
      "Epoch 10/10\n",
      "1875/1875 [==============================] - 22s 12ms/step - loss: 0.1392 - accuracy: 0.2233 - val_loss: 0.1370 - val_accuracy: 0.2196\n"
     ]
    },
    {
     "data": {
      "text/plain": [
       "<tensorflow.python.keras.callbacks.History at 0x284f65fd0>"
      ]
     },
     "execution_count": 21,
     "metadata": {},
     "output_type": "execute_result"
    }
   ],
   "source": [
    "autoEncoder.fit(xTrain, xTrain, validation_data= (xTest, xTest), epochs= 10)"
   ]
  },
  {
   "cell_type": "code",
   "execution_count": 22,
   "id": "e178d2f1",
   "metadata": {},
   "outputs": [],
   "source": [
    "accuracyFrame = pd.DataFrame(autoEncoder.history.history)"
   ]
  },
  {
   "cell_type": "code",
   "execution_count": 23,
   "id": "aa444dea",
   "metadata": {},
   "outputs": [
    {
     "data": {
      "text/html": [
       "<div>\n",
       "<style scoped>\n",
       "    .dataframe tbody tr th:only-of-type {\n",
       "        vertical-align: middle;\n",
       "    }\n",
       "\n",
       "    .dataframe tbody tr th {\n",
       "        vertical-align: top;\n",
       "    }\n",
       "\n",
       "    .dataframe thead th {\n",
       "        text-align: right;\n",
       "    }\n",
       "</style>\n",
       "<table border=\"1\" class=\"dataframe\">\n",
       "  <thead>\n",
       "    <tr style=\"text-align: right;\">\n",
       "      <th></th>\n",
       "      <th>loss</th>\n",
       "      <th>accuracy</th>\n",
       "      <th>val_loss</th>\n",
       "      <th>val_accuracy</th>\n",
       "    </tr>\n",
       "  </thead>\n",
       "  <tbody>\n",
       "    <tr>\n",
       "      <th>0</th>\n",
       "      <td>0.259262</td>\n",
       "      <td>0.079523</td>\n",
       "      <td>0.233791</td>\n",
       "      <td>0.098661</td>\n",
       "    </tr>\n",
       "    <tr>\n",
       "      <th>1</th>\n",
       "      <td>0.220267</td>\n",
       "      <td>0.113634</td>\n",
       "      <td>0.211630</td>\n",
       "      <td>0.127746</td>\n",
       "    </tr>\n",
       "    <tr>\n",
       "      <th>2</th>\n",
       "      <td>0.197110</td>\n",
       "      <td>0.147064</td>\n",
       "      <td>0.183413</td>\n",
       "      <td>0.166132</td>\n",
       "    </tr>\n",
       "    <tr>\n",
       "      <th>3</th>\n",
       "      <td>0.179445</td>\n",
       "      <td>0.174194</td>\n",
       "      <td>0.176423</td>\n",
       "      <td>0.172575</td>\n",
       "    </tr>\n",
       "    <tr>\n",
       "      <th>4</th>\n",
       "      <td>0.168524</td>\n",
       "      <td>0.187815</td>\n",
       "      <td>0.162197</td>\n",
       "      <td>0.195932</td>\n",
       "    </tr>\n",
       "    <tr>\n",
       "      <th>5</th>\n",
       "      <td>0.160203</td>\n",
       "      <td>0.198328</td>\n",
       "      <td>0.156793</td>\n",
       "      <td>0.203468</td>\n",
       "    </tr>\n",
       "    <tr>\n",
       "      <th>6</th>\n",
       "      <td>0.153757</td>\n",
       "      <td>0.206593</td>\n",
       "      <td>0.149287</td>\n",
       "      <td>0.213239</td>\n",
       "    </tr>\n",
       "    <tr>\n",
       "      <th>7</th>\n",
       "      <td>0.148105</td>\n",
       "      <td>0.213308</td>\n",
       "      <td>0.158727</td>\n",
       "      <td>0.206714</td>\n",
       "    </tr>\n",
       "    <tr>\n",
       "      <th>8</th>\n",
       "      <td>0.143484</td>\n",
       "      <td>0.218355</td>\n",
       "      <td>0.143477</td>\n",
       "      <td>0.214750</td>\n",
       "    </tr>\n",
       "    <tr>\n",
       "      <th>9</th>\n",
       "      <td>0.139227</td>\n",
       "      <td>0.223321</td>\n",
       "      <td>0.136984</td>\n",
       "      <td>0.219643</td>\n",
       "    </tr>\n",
       "  </tbody>\n",
       "</table>\n",
       "</div>"
      ],
      "text/plain": [
       "       loss  accuracy  val_loss  val_accuracy\n",
       "0  0.259262  0.079523  0.233791      0.098661\n",
       "1  0.220267  0.113634  0.211630      0.127746\n",
       "2  0.197110  0.147064  0.183413      0.166132\n",
       "3  0.179445  0.174194  0.176423      0.172575\n",
       "4  0.168524  0.187815  0.162197      0.195932\n",
       "5  0.160203  0.198328  0.156793      0.203468\n",
       "6  0.153757  0.206593  0.149287      0.213239\n",
       "7  0.148105  0.213308  0.158727      0.206714\n",
       "8  0.143484  0.218355  0.143477      0.214750\n",
       "9  0.139227  0.223321  0.136984      0.219643"
      ]
     },
     "execution_count": 23,
     "metadata": {},
     "output_type": "execute_result"
    }
   ],
   "source": [
    "accuracyFrame"
   ]
  },
  {
   "cell_type": "code",
   "execution_count": 26,
   "id": "ca7a3989",
   "metadata": {},
   "outputs": [
    {
     "data": {
      "text/plain": [
       "<AxesSubplot:xlabel='Epochs', ylabel='Loss'>"
      ]
     },
     "execution_count": 26,
     "metadata": {},
     "output_type": "execute_result"
    },
    {
     "data": {
      "image/png": "[encoded data removed]",
      "text/plain": [
       "<Figure size 432x288 with 1 Axes>"
      ]
     },
     "metadata": {
      "needs_background": "light"
     },
     "output_type": "display_data"
    }
   ],
   "source": [
    "accuracyFrame[['loss', 'val_loss']].plot(xlabel= 'Epochs', ylabel= 'Loss')"
   ]
  },
  {
   "cell_type": "code",
   "execution_count": 27,
   "id": "1b435762",
   "metadata": {},
   "outputs": [
    {
     "data": {
      "text/plain": [
       "<AxesSubplot:xlabel='Epochs', ylabel='Accuracy'>"
      ]
     },
     "execution_count": 27,
     "metadata": {},
     "output_type": "execute_result"
    },
    {
     "data": {
      "image/png": "[encoded data removed]",
      "text/plain": [
       "<Figure size 432x288 with 1 Axes>"
      ]
     },
     "metadata": {
      "needs_background": "light"
     },
     "output_type": "display_data"
    }
   ],
   "source": [
    "accuracyFrame[['accuracy', 'val_accuracy']].plot(xlabel= 'Epochs', ylabel= 'Accuracy')"
   ]
  },
  {
   "cell_type": "code",
   "execution_count": 28,
   "id": "1a1e5fbe",
   "metadata": {},
   "outputs": [
    {
     "name": "stderr",
     "output_type": "stream",
     "text": [
      "2022-08-05 12:36:39.543026: W tensorflow/python/util/util.cc:348] Sets are not currently considered sequences, but this may change in the future, so consider avoiding using them.\n"
     ]
    },
    {
     "name": "stdout",
     "output_type": "stream",
     "text": [
      "INFO:tensorflow:Assets written to: work/assets\n",
      "INFO:tensorflow:Assets written to: neural_net/assets\n"
     ]
    }
   ],
   "source": [
    "autoEncoder.save('work')\n",
    "autoEncoder.save('neural_net')"
   ]
  },
  {
   "cell_type": "code",
   "execution_count": 33,
   "id": "495ad66f",
   "metadata": {},
   "outputs": [
    {
     "name": "stderr",
     "output_type": "stream",
     "text": [
      "2022-08-05 12:43:08.039654: I tensorflow/core/grappler/optimizers/custom_graph_optimizer_registry.cc:112] Plugin optimizer for device_type GPU is enabled.\n",
      "2022-08-05 12:43:08.285443: I tensorflow/core/grappler/optimizers/custom_graph_optimizer_registry.cc:112] Plugin optimizer for device_type GPU is enabled.\n"
     ]
    },
    {
     "data": {
      "text/plain": [
       "(10000, 28, 28)"
      ]
     },
     "execution_count": 33,
     "metadata": {},
     "output_type": "execute_result"
    }
   ],
   "source": [
    "encoded_images = encoder.predict(xTest)\n",
    "bottle_neck_images = bottleNeck.predict(encoded_images)\n",
    "decoded_images = decoder.predict(bottle_neck_images)\n",
    "decoded_images.shape"
   ]
  },
  {
   "cell_type": "code",
   "execution_count": 35,
   "id": "49af4c60",
   "metadata": {},
   "outputs": [],
   "source": [
    "pred_images = reshape(decoded_images, newshape= (decoded_images.shape[0], 28, 28))"
   ]
  },
  {
   "cell_type": "code",
   "execution_count": 36,
   "id": "78a3d89d",
   "metadata": {},
   "outputs": [
    {
     "data": {
      "image/png": "[encoded data removed]",
      "text/plain": [
       "<Figure size 720x144 with 20 Axes>"
      ]
     },
     "metadata": {
      "needs_background": "light"
     },
     "output_type": "display_data"
    }
   ],
   "source": [
    "n = 10\n",
    "plt.figure(figsize=(10, 2))\n",
    "for i in range(n): \n",
    "    ax = plt.subplot(2, n, i + 1)\n",
    "    ax.get_xaxis().set_visible(False)\n",
    "    ax.get_yaxis().set_visible(False)\n",
    "    plt.imshow(xTest[i].reshape(28, 28))\n",
    "    plt.gray()\n",
    " \n",
    "    ax = plt.subplot(2, n, i + 1 + n)\n",
    "    ax.get_xaxis().set_visible(False)\n",
    "    ax.get_yaxis().set_visible(False)\n",
    "    plt.imshow(pred_images[i].reshape(28, 28))"
   ]
  },
  {
   "cell_type": "markdown",
   "id": "e142ee2c",
   "metadata": {},
   "source": [
    "## Test with a Random Index Generated"
   ]
  },
  {
   "cell_type": "code",
   "execution_count": 37,
   "id": "7639a967",
   "metadata": {},
   "outputs": [],
   "source": [
    "random_idx = random.randint(0, len(xTest) - 1)"
   ]
  },
  {
   "cell_type": "code",
   "execution_count": 38,
   "id": "6d7764a8",
   "metadata": {},
   "outputs": [
    {
     "name": "stdout",
     "output_type": "stream",
     "text": [
      "Original Image: \n"
     ]
    },
    {
     "data": {
      "image/png": "[encoded data removed]",
      "text/plain": [
       "<Figure size 432x288 with 1 Axes>"
      ]
     },
     "metadata": {
      "needs_background": "light"
     },
     "output_type": "display_data"
    },
    {
     "name": "stdout",
     "output_type": "stream",
     "text": [
      "Attempted Reconstruction (After Autoencoder)\n"
     ]
    },
    {
     "data": {
      "text/plain": [
       "<matplotlib.image.AxesImage at 0x2af1ab880>"
      ]
     },
     "execution_count": 38,
     "metadata": {},
     "output_type": "execute_result"
    },
    {
     "data": {
      "image/png": "[encoded data removed]",
      "text/plain": [
       "<Figure size 432x288 with 1 Axes>"
      ]
     },
     "metadata": {
      "needs_background": "light"
     },
     "output_type": "display_data"
    }
   ],
   "source": [
    "print('Original Image: ')\n",
    "plt.imshow(xTest[random_idx])\n",
    "plt.show()\n",
    "print('Attempted Reconstruction (After Autoencoder)')\n",
    "plt.imshow(pred_images[random_idx])"
   ]
  },
  {
   "cell_type": "markdown",
   "id": "6f7138c1",
   "metadata": {},
   "source": [
    "# Image Noise Reduction"
   ]
  },
  {
   "cell_type": "code",
   "execution_count": 39,
   "id": "52bc6970",
   "metadata": {},
   "outputs": [],
   "source": [
    "from tensorflow.keras.layers import GaussianNoise"
   ]
  },
  {
   "cell_type": "code",
   "execution_count": 45,
   "id": "cc2cb97b",
   "metadata": {},
   "outputs": [],
   "source": [
    "sample = GaussianNoise(0.2)\n",
    "noisey_images = sample(xTest[:10], training= True)"
   ]
  },
  {
   "cell_type": "code",
   "execution_count": 41,
   "id": "71beb718",
   "metadata": {},
   "outputs": [],
   "source": [
    "random_idx = random.randint(0, 9)"
   ]
  },
  {
   "cell_type": "code",
   "execution_count": 48,
   "id": "a2faeb03",
   "metadata": {},
   "outputs": [
    {
     "name": "stdout",
     "output_type": "stream",
     "text": [
      "ORIGINAL\n"
     ]
    },
    {
     "data": {
      "image/png": "[encoded data removed]",
      "text/plain": [
       "<Figure size 432x288 with 1 Axes>"
      ]
     },
     "metadata": {
      "needs_background": "light"
     },
     "output_type": "display_data"
    },
    {
     "name": "stdout",
     "output_type": "stream",
     "text": [
      "NOISEY IMAGE\n"
     ]
    },
    {
     "data": {
      "image/png": "[encoded data removed]",
      "text/plain": [
       "<Figure size 432x288 with 1 Axes>"
      ]
     },
     "metadata": {
      "needs_background": "light"
     },
     "output_type": "display_data"
    }
   ],
   "source": [
    "print('ORIGINAL')\n",
    "plt.imshow(xTest[random_idx], cmap= 'viridis')\n",
    "plt.show()\n",
    "print('NOISEY IMAGE')\n",
    "plt.imshow(noisey_images[random_idx], cmap= 'viridis')\n",
    "plt.show()"
   ]
  },
  {
   "cell_type": "code",
   "execution_count": 49,
   "id": "d0795403",
   "metadata": {},
   "outputs": [],
   "source": [
    "np.random.seed(1111)\n",
    "tf.random.set_seed(1111)"
   ]
  },
  {
   "cell_type": "markdown",
   "id": "5a51b511",
   "metadata": {},
   "source": [
    "## Encoder for Noise Reduction"
   ]
  },
  {
   "cell_type": "code",
   "execution_count": 50,
   "id": "788b13bd",
   "metadata": {},
   "outputs": [],
   "source": [
    "encoder = Sequential()\n",
    "\n",
    "encoder.add(Flatten(input_shape= [xTrainShape1, xTrainShape2]))\n",
    "encoder.add(GaussianNoise(0.2))\n",
    "\n",
    "encoder.add(Dense(units= 450, activation= 'relu'))\n",
    "encoder.add(Dense(units= 400, activation= 'relu'))\n",
    "encoder.add(Dense(units= 350, activation= 'relu'))\n",
    "encoder.add(Dense(units= 300, activation= 'relu'))\n",
    "encoder.add(Dense(units= 250, activation= 'relu'))\n",
    "encoder.add(Dense(units= 200, activation= 'relu'))\n",
    "encoder.add(Dense(units= 150, activation= 'relu'))\n",
    "encoder.add(Dense(units= 100, activation= 'relu'))"
   ]
  },
  {
   "cell_type": "markdown",
   "id": "045ed5b7",
   "metadata": {},
   "source": [
    "## BottleNeck for Noise Reduction"
   ]
  },
  {
   "cell_type": "code",
   "execution_count": 51,
   "id": "8c6a5e7c",
   "metadata": {},
   "outputs": [],
   "source": [
    "bottleNeckInp = Input(shape= (100,))\n",
    "bottleNeckOutp = Dense(units= latent_size, activation= 'relu')(bottleNeckInp)\n",
    "                     \n",
    "bottleNeck = Model(bottleNeckInp, bottleNeckOutp)"
   ]
  },
  {
   "cell_type": "markdown",
   "id": "dc2963df",
   "metadata": {},
   "source": [
    "## Decoder for Noise Reduction"
   ]
  },
  {
   "cell_type": "code",
   "execution_count": 52,
   "id": "403b86f9",
   "metadata": {},
   "outputs": [],
   "source": [
    "decoder = Sequential()\n",
    "\n",
    "decoder.add(Dense(units= 100, activation= 'relu'))\n",
    "decoder.add(Dense(units= 150, activation= 'relu'))\n",
    "decoder.add(Dense(units= 200, activation= 'relu'))\n",
    "decoder.add(Dense(units= 250, activation= 'relu'))\n",
    "decoder.add(Dense(units= 300, activation= 'relu'))\n",
    "decoder.add(Dense(units= 350, activation= 'relu'))\n",
    "decoder.add(Dense(units= 400, activation= 'relu'))\n",
    "decoder.add(Dense(units= 450, activation= 'relu'))\n",
    "\n",
    "decoder.add(Dense(units= input_shape, activation= 'sigmoid'))\n",
    "decoder.add(Reshape([xTrainShape1, xTrainShape2]))\n",
    "decoder.build(input_shape= [None, latent_size])"
   ]
  },
  {
   "cell_type": "code",
   "execution_count": 53,
   "id": "43fb94d3",
   "metadata": {},
   "outputs": [],
   "source": [
    "noise_remover = Sequential([encoder, bottleNeck, decoder])"
   ]
  },
  {
   "cell_type": "code",
   "execution_count": 54,
   "id": "bbf28440",
   "metadata": {},
   "outputs": [],
   "source": [
    "noise_remover.compile(loss= 'binary_crossentropy', optimizer= 'adam', \n",
    "                     metrics= ['accuracy'])"
   ]
  },
  {
   "cell_type": "code",
   "execution_count": 55,
   "id": "01796a8e",
   "metadata": {},
   "outputs": [
    {
     "name": "stdout",
     "output_type": "stream",
     "text": [
      "Epoch 1/10\n",
      "   1/1875 [..............................] - ETA: 15:43 - loss: 0.6931 - accuracy: 0.0502"
     ]
    },
    {
     "name": "stderr",
     "output_type": "stream",
     "text": [
      "2022-08-05 13:13:35.877779: I tensorflow/core/grappler/optimizers/custom_graph_optimizer_registry.cc:112] Plugin optimizer for device_type GPU is enabled.\n"
     ]
    },
    {
     "name": "stdout",
     "output_type": "stream",
     "text": [
      "1875/1875 [==============================] - 23s 12ms/step - loss: 0.2209 - accuracy: 0.1202\n",
      "Epoch 2/10\n",
      "1875/1875 [==============================] - 23s 12ms/step - loss: 0.1918 - accuracy: 0.1619\n",
      "Epoch 3/10\n",
      "1875/1875 [==============================] - 23s 12ms/step - loss: 0.1781 - accuracy: 0.1821\n",
      "Epoch 4/10\n",
      "1875/1875 [==============================] - 23s 12ms/step - loss: 0.1729 - accuracy: 0.1889\n",
      "Epoch 5/10\n",
      "1875/1875 [==============================] - 22s 12ms/step - loss: 0.1675 - accuracy: 0.1960\n",
      "Epoch 6/10\n",
      "1875/1875 [==============================] - 22s 12ms/step - loss: 0.1660 - accuracy: 0.1984\n",
      "Epoch 7/10\n",
      "1875/1875 [==============================] - 23s 12ms/step - loss: 0.1638 - accuracy: 0.2023\n",
      "Epoch 8/10\n",
      "1875/1875 [==============================] - 23s 12ms/step - loss: 0.1629 - accuracy: 0.2026\n",
      "Epoch 9/10\n",
      "1875/1875 [==============================] - 23s 12ms/step - loss: 0.1604 - accuracy: 0.2055\n",
      "Epoch 10/10\n",
      "1875/1875 [==============================] - 23s 12ms/step - loss: 0.1582 - accuracy: 0.2092\n"
     ]
    },
    {
     "data": {
      "text/plain": [
       "<tensorflow.python.keras.callbacks.History at 0x287408ac0>"
      ]
     },
     "execution_count": 55,
     "metadata": {},
     "output_type": "execute_result"
    }
   ],
   "source": [
    "noise_remover.fit(xTrain, xTrain, epochs= 10)"
   ]
  },
  {
   "cell_type": "markdown",
   "id": "527b9777",
   "metadata": {},
   "source": [
    "## Testing with First 10 Images"
   ]
  },
  {
   "cell_type": "code",
   "execution_count": 56,
   "id": "38ebc701",
   "metadata": {},
   "outputs": [],
   "source": [
    "tenNoiseyImages = sample(xTest[:10], training= True)\n",
    "tenDenoisedImages = noise_remover(tenNoiseyImages)"
   ]
  },
  {
   "cell_type": "code",
   "execution_count": 65,
   "id": "0cf05b34",
   "metadata": {},
   "outputs": [],
   "source": [
    "from tensorflow.python.ops.numpy_ops import np_config\n",
    "np_config.enable_numpy_behavior()"
   ]
  },
  {
   "cell_type": "code",
   "execution_count": 72,
   "id": "5c5bed1c",
   "metadata": {},
   "outputs": [
    {
     "name": "stdout",
     "output_type": "stream",
     "text": [
      "ORIGINAL IMAGES\n"
     ]
    },
    {
     "data": {
      "image/png": "[encoded data removed]",
      "text/plain": [
       "<Figure size 720x144 with 10 Axes>"
      ]
     },
     "metadata": {
      "needs_background": "light"
     },
     "output_type": "display_data"
    },
    {
     "name": "stdout",
     "output_type": "stream",
     "text": [
      "NOISED IMAGES\n"
     ]
    },
    {
     "data": {
      "image/png": "[encoded data removed]",
      "text/plain": [
       "<Figure size 720x144 with 10 Axes>"
      ]
     },
     "metadata": {
      "needs_background": "light"
     },
     "output_type": "display_data"
    },
    {
     "name": "stdout",
     "output_type": "stream",
     "text": [
      "AFTER NOISE REMOVAL FROM AUTOENCODER\n"
     ]
    },
    {
     "data": {
      "image/png": "[encoded data removed]",
      "text/plain": [
       "<Figure size 720x144 with 10 Axes>"
      ]
     },
     "metadata": {
      "needs_background": "light"
     },
     "output_type": "display_data"
    }
   ],
   "source": [
    "# her basliga subplot olustur\n",
    "# plot for each heading\n",
    "n = 10\n",
    "print('ORIGINAL IMAGES')\n",
    "\n",
    "plt.figure(figsize=(10, 2))\n",
    "for i in range(n): \n",
    "    ax = plt.subplot(2, n, i + 1)\n",
    "    ax.get_xaxis().set_visible(False)\n",
    "    ax.get_yaxis().set_visible(False)\n",
    "    plt.imshow(xTest[i].reshape(28, 28))\n",
    "    plt.gray()\n",
    "plt.show()\n",
    "\n",
    "print('NOISED IMAGES')\n",
    "plt.figure(figsize=(10, 2))\n",
    "for i in range(n):\n",
    "    ax = plt.subplot(2, n, i + 1)\n",
    "    ax.get_xaxis().set_visible(False)\n",
    "    ax.get_yaxis().set_visible(False)\n",
    "    plt.imshow(tenNoiseyImages[i])\n",
    "    plt.gray()\n",
    "plt.show()\n",
    "\n",
    "print('AFTER NOISE REMOVAL FROM AUTOENCODER')\n",
    "plt.figure(figsize=(10, 2))\n",
    "for i in range(n):\n",
    "    ax = plt.subplot(2, n, i + 1)\n",
    "    ax.get_xaxis().set_visible(False)\n",
    "    ax.get_yaxis().set_visible(False)\n",
    "    plt.imshow(tenDenoisedImages[i])\n",
    "    plt.gray()\n",
    "plt.show()"
   ]
  }
 ],
 "metadata": {
  "kernelspec": {
   "display_name": "Python 3 (ipykernel)",
   "language": "python",
   "name": "python3"
  },
  "language_info": {
   "codemirror_mode": {
    "name": "ipython",
    "version": 3
   },
   "file_extension": ".py",
   "mimetype": "text/x-python",
   "name": "python",
   "nbconvert_exporter": "python",
   "pygments_lexer": "ipython3",
   "version": "3.9.13"
  }
 },
 "nbformat": 4,
 "nbformat_minor": 5
}
